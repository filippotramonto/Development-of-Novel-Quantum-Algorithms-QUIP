{
  "nbformat": 4,
  "nbformat_minor": 0,
  "metadata": {
    "colab": {
      "provenance": [],
      "collapsed_sections": [
        "HCmZpkaTwmyV",
        "IIoTGW3Pw-pO"
      ]
    },
    "kernelspec": {
      "name": "python3",
      "display_name": "Python 3"
    },
    "language_info": {
      "name": "python"
    }
  },
  "cells": [
    {
      "cell_type": "markdown",
      "source": [
        "# **Project: Classically verifiable quantum advantage from a computational Bell test**\n",
        "\n",
        "**Developed and authored by QUIP team members:** Filippo Tramonto, Ban Tran, Nahid Binandeh Dehaghani\n",
        "\n"
      ],
      "metadata": {
        "id": "vyU2Xk165JvV"
      }
    },
    {
      "cell_type": "markdown",
      "source": [
        "## **Implementation of Step 1**\n",
        "The first step involves implementing a toy version of the chosen algorithm, which simplifies the problem addressed in the original paper. We conducted a scalable implementation, ensuring it was thoroughly checked and tested.\n",
        "To this end, we covered the following steps:\n",
        "*   Problem Encoding\n",
        "*   Key algorithmic components implementation\n",
        "*   Readout and post-processing"
      ],
      "metadata": {
        "id": "jkzbPW3Z0yDM"
      }
    },
    {
      "cell_type": "markdown",
      "metadata": {
        "id": "Ng2cPwAsAT0C"
      },
      "source": [
        "## **Key implementation aspects and the methodologies**\n",
        "\n",
        "* **Quantum algorithm**\n",
        "\n",
        "Our focus in this step is to implement the quantum algorithm, key component of the protocol discussed in the paper, i.e. the quantum algorithm that implements the computation of Trapdoor Claw-Free Function (TCF) of Rabin, $ f_N(x) =  x^2 \\!\\!\\! \\mod \\!\\! N $, which will be explained in details in the next sections.\n",
        "\n",
        "The quantum algorithm involves preparing the state $ |\\psi\\rangle = \\sum_x |x\\rangle_x |x^2 \\!\\!\\! \\mod \\!\\! N\\rangle_y $, where the subscripts $ x $ and $ y $ indicate the quantum registers $ x $ and $ y $.\n",
        "\n",
        "* **Quantum Circuits**\n",
        "\n",
        "The paper propose four different quantum circuit designs for implementing the encoding of the TCF, $f_N(x) = x^2 \\!\\!\\! \\mod \\!\\! N N$. It describes also a experimental implementation on quantum hardware of neutral atoms coupled with Ridberg states\n",
        "\n",
        "1. **Classical algorithms Converted to Quantum**\n",
        "* **Karatsuba Multiplication Circuit.** This circuit is based on the classical Karatsuba algorithm for efficient integer multiplication. It is adapted for quantum computation by making it reversible and then optimized using a scheme to discard unnecessary \"garbage\" bits.\n",
        "* **Schoolbook Multiplication Circuit.** Similar to the Karatsuba circuit, this classical algorithm for integer multiplication is made reversible for quantum use. It benefits from the same optimization scheme to remove garbage bits, reducing overhead.\n",
        "\n",
        "2. **Phase Circuits**\n",
        "\n",
        "    These circuits are intrinsically quantum and the paper call these as \"phase circuits\".\n",
        "    One is optimized for qubit count and the other for gate count and depth.\n",
        "\n",
        "    The general idea of these phase circuits is to leverages the logic of the quantum phase estimation (QPE) algorithm to compute  $x^2 \\ \\textrm{mod} \\ N$ as phase and \"estimate\" the phase, i.e. to encode $x^2 \\ \\textrm{mod} \\ N$ into the state, that is desired result.\n",
        "\n",
        "    These circuits use controlled phase rotations directly to compute $x^2 \\ \\textrm{mod} \\ N $ in a decomposition of phases into the relative phases of the computational basis states in superposition (previously prepared with a Hadamard transform).\n",
        "    It then employs the inverse of the quantum Fourier transform to combine the relative phases into one value (the estimated phase) encoded in the computational basis.\n",
        "\n",
        "* **Qubit optimized phase circuit.** It does not use the whole inverse quantum Fourier transform, instead it exploits measurement of one qubit of the output register immediately after is computed by with the controlled phase rotation. This reduces the number qubits used for the output register. But it requires to perform mid-circuit measurements and re-using the same output qubit, or run multiple times the circuit to compute the different bits of the final output.\n",
        "\n",
        "* **Depth optimized phase circuit.** It actually uses the whole inverse quantum Fourier transform as described above. And to optimize for gates it leverages an addditional ancilla quantum register called \"counter\", to counts when for certains pairs of indices of qubits in the controlled phase rotations are both 1. This reduces the gate counts.\n",
        "\n",
        "\n",
        "**Experimental implementation circuit**\n",
        "\n",
        "The paper propose also a version of the phase estimation circuits, specific for quantum hardware of neutral atoms coupled with Ridberg states. It further reduces gate count and depth by leveraging the Rydberg blockade mechanism, which natively supports multi-qubit controlled phase gates, thereby minimizing the computational complexity.\n",
        "\n",
        "* **Paper's code**\n",
        "\n",
        "The supplementary materials of the paper include a [public reposistory](https://github.com/GregDMeyer?tab=repositories) with the source code for the four quantum circuits illstrated above. The code is written with the Python SDK Cirq.\n",
        "\n",
        "* **Our implemantaion and following sections**\n",
        "\n",
        "Among the four circuits provided by the paper we choosed to implement the cirucit that requires less qubits, in order to test it on the Classiq's simulator, which max number of qubits supported is 25. The circuits that requires less qubits are the Phase Circuits.\n",
        "\n",
        "And among the 2 proposed phase circuits, the qubit optimized circuit (that in the code is called \"narrow\" circuit) is the cheapest in terms of qubit usage.\n",
        "However, in order to implement it with also the quantum circuits that implement the other quantum steps of the protcol, it requires the use of mid-circuit measurements, and this is not supported by Classiq's platform.\n",
        "\n",
        "For this reason _we chosed to implement the gate-optimized phase circuit_ , that in the code is called \"fast\" circuit, althogh it requries a higher number of qubits, due to the use of additional ancilla qubits.\n",
        "\n",
        "In the following sections and cells, we will provide the implementation of the functions from the original paper's code using Classiq Python SDK, that is the Qmod language implementation in Python. Qmod is the language developed by Classiq, available in two versions, one is the native Qmod and one Python SDK, that is the embedding of Qmod in Python. In the code cells we will insert the original authors code (commented) and below our implemantation in Classiq Python SDK.\n",
        "The names of the sections follow the paper code function names.\n",
        "\n",
        "\n",
        "(Text by:  Filippo Tramonto, Nahid Binandeh Dehaghani)"
      ]
    },
    {
      "cell_type": "markdown",
      "source": [
        "##### Library Imports and Package Installation"
      ],
      "metadata": {
        "id": "ENoef75RBLF4"
      }
    },
    {
      "cell_type": "code",
      "source": [
        "## TIP : run this cell 2 times, when you run this notebook on Colab or other enviroment where classiq pacckage is not installed\n",
        "##       the second time removes the annoying installation log prints\n",
        "try:\n",
        "    from classiq import *\n",
        "except ImportError:\n",
        "    print(\"installing classiq...\")\n",
        "    !pip install --quiet classiq\n",
        "    from classiq import *\n",
        "    print(\"installed classiq.\")\n",
        "\n",
        "import numpy as np\n",
        "import random"
      ],
      "metadata": {
        "id": "DUeJlH7F44P5"
      },
      "execution_count": 1,
      "outputs": []
    },
    {
      "cell_type": "markdown",
      "source": [
        "## CZpow() function\n",
        "(Function developed by Filippo Tramonto, Ban Tran)"
      ],
      "metadata": {
        "id": "wxDWGPTAu3s9"
      }
    },
    {
      "cell_type": "markdown",
      "source": [
        "In Qmod, the gates most similar to three gates `ZPowGate`, `CZPowGate`, `CCZPowGate` of Cirq are `PHASE` for `ZPowGate` and `CPHASE` for `CZPowGate`. The main differences is a factor $\\pi$ in the phase argument of the gates (we have to multiply the phase by $\\pi$ to reproduce the gates of Cirq).\n",
        "\n",
        "We have eliminated the option with `nqubits == 1` with `ZPowGate` (of the authors code), because `ZPowGate` is never used in the code. Therefore, there are two functions to translate in Qmod/Phython-SDK: `CZPowGate`, `CCZPowGate`.\n",
        "\n",
        "In Qmod, there is no gate similar to `CCZPowGate`. To implement it, we use the Qmod `control()` function to double control the `PHASE` gate. For the `CZPowGate` gate, there is the `CPHASE` gate, which is equivalent to using `control()` to apply the `PHASE` gate controlled by one qubit.\n",
        "\n",
        "Thus, the implementation of `CZPowGate`, `CCZPowGate` would be identical. Since in Qmod we can use the implicit casting from QBit to QArray (i.e. passing a QBit variable to a function where the argument is declared as QArray), we define a unique function both for `CZPowGate` and `CCZPowGate`, we call this function MCZPhase (Multi-Controlled-ZPhase gate).\n",
        "\n",
        "\n",
        "(Text by: Filippo Tramonto)"
      ],
      "metadata": {
        "id": "NLVNdgAwJOKM"
      }
    },
    {
      "cell_type": "code",
      "source": [
        "## Original authors function in Cirq\n",
        "####################################################\n",
        "#def CZpow(phase, *qubits):\n",
        "#    nqubits = len(qubits)\n",
        "\n",
        "#    # we put most common case first\n",
        "#    if nqubits == 3:\n",
        "#        base_gate = cirq.CCZPowGate(exponent=phase)\n",
        "#    elif nqubits == 2:\n",
        "#        base_gate = cirq.CZPowGate(exponent=phase)\n",
        "#    elif nqubits == 1:\n",
        "#        base_gate = cirq.ZPowGate(exponent=phase)\n",
        "#    else:\n",
        "#        raise ValueError('too many control qubits')\n",
        "#\n",
        "#    return base_gate(*qubits)\n",
        "#\n",
        "############## Developed by #########################\n",
        "# Filippo Tramonto, Ban Tran\n",
        "###################################################\n",
        "from classiq.qmod.symbolic import pi\n",
        "@qfunc\n",
        "def MCZPhase(phase: CReal, target: QBit, controls: QArray[QBit]):\n",
        "    control(controls, lambda: PHASE(phase * pi , target))"
      ],
      "metadata": {
        "id": "1DbfB-RaE2gp"
      },
      "execution_count": 2,
      "outputs": []
    },
    {
      "cell_type": "markdown",
      "source": [
        "## phase_add() function\n",
        "(Function developed by Filippo Tramonto)"
      ],
      "metadata": {
        "id": "_KfexzZfXFYd"
      }
    },
    {
      "cell_type": "markdown",
      "source": [
        "The original function in Cirq is designed to add phases to a series of qubits using controlled Z rotations. The function parameters are the phase to be added, the target qubits, and the control qubits. There is a loop that iterates over each qubit in the target array, calculates the phase for each qubit, and\n",
        "yields a controlled-Z rotation (CZpow) for each target qubit with the calculated phase and given control qubits.\n",
        "\n",
        "Our Classiq Python SDK code aims to achieve the same functionality but adapted to Qmod/Python SDK syntax and capabilities. The code is structured into three functions:\n",
        "*   `phase_add_2qubits`: Handles the case where there are two control qubits. It binds two control qubits to an array and iterates over the target qubits, applying the phase_add_iteration function.\n",
        "*   `phase_add_1qubit`: Handles the case with a single control qubit. It  iterates over the target qubits, applying the phase_add_iteration function with a single control qubit.\n",
        "*   `phase_add_iteration`: The core iteration logic to compute the phase and apply the controlled phase gate. It calculates the phase for each target qubit and applies the MCZPhase function (a multi-controlled phase gate), which is equivalent to the author's CZpow.\n",
        "\n",
        "We use the parameters `in_phase` for the phase to be added, `target` for the target qubits array, `control1`, `control2`, control for control qubits,\n",
        "`k` for the current iteration index, and `controls` for the array of control qubits (in the case of multiple control qubits).\n",
        "\n",
        "Key Differences:\n",
        "Qmod uses explicit function bindings and iteration constructs tailored to its syntax. The phase calculation and control application logic remain consistent with the original author's code. MCZPhase is a generalized function to handle both single and double control qubits.\n",
        "\n",
        "(Text by: Nahid Binandeh Dehaghani)\n"
      ],
      "metadata": {
        "id": "II8Kjr1D26Ol"
      }
    },
    {
      "cell_type": "code",
      "source": [
        "## Original function in Cirq\n",
        "####################################################\n",
        "#def phase_add(in_phase, target, controls):\n",
        "#    for k, yk in enumerate(target):\n",
        "#        phase = 2**(len(target) - k - 1) * in_phase % 2\n",
        "#        yield CZpow(phase, yk, *controls)\n",
        "\n",
        "############## Developed by #########################\n",
        "# Filippo Tramonto\n",
        "###################################################\n",
        "# The converted function in Qmod/Classiq Python SDK\n",
        "#################################################\n",
        "@qfunc\n",
        "def phase_add_2qubits(in_phase: CReal, target: QArray[QBit], control1: QBit, control2: QBit) -> None:\n",
        "    controls = QArray('controls')\n",
        "    bind([control1, control2],controls)\n",
        "    repeat(count = target.len,\n",
        "           iteration = lambda k: phase_add_iteration(k,in_phase,target,controls))\n",
        "    bind(controls,[control1, control2])\n",
        "\n",
        "@qfunc\n",
        "def phase_add_1qubit(in_phase: CReal, target: QArray[QBit], control: QBit) -> None:\n",
        "    repeat(count = target.len,\n",
        "           iteration = lambda k: phase_add_iteration(k,in_phase,target,control))\n",
        "\n",
        "@qfunc\n",
        "def phase_add_iteration(k: CInt, in_phase: CReal, target: QArray[QBit], controls: QArray[QBit]) -> None:\n",
        "    phase = 2**(target.len -k -1)* in_phase % 2\n",
        "    MCZPhase(phase, target[k], controls)   # target[k] is yk-th qubit of target in orgiginal code"
      ],
      "metadata": {
        "id": "V54vd_BD25tR"
      },
      "execution_count": 3,
      "outputs": []
    },
    {
      "cell_type": "markdown",
      "source": [
        "### Test of the phase_add function implemenation\n",
        "\n",
        "The test checks if the model creation and program synthesis works, without errors."
      ],
      "metadata": {
        "id": "ieQ4ZIOaNxzg"
      }
    },
    {
      "cell_type": "code",
      "source": [
        "## TEST OF phase_add_2qubits and phase_add_1qubit\n",
        "############## Developed by #########################\n",
        "# Filippo Tramonto, Ban Tran\n",
        "###################################################\n",
        "import math\n",
        "@qfunc\n",
        "def main(x: Output[QArray[QBit]], counter: Output[QArray[QBit]]):\n",
        "\n",
        "    N = 21\n",
        "    domain_max = (N+1)//2 - 1\n",
        "    n_x = domain_max.bit_length()\n",
        "    allocate(n_x,x)\n",
        "\n",
        "    n_counter = int(math.log(n_x) + 1)\n",
        "    allocate(n_counter, counter)\n",
        "\n",
        "    in_phase= math.pi/3\n",
        "    #phase_add_2qubits(in_phase, counter, x[0], x[2])\n",
        "    phase_add_1qubit(in_phase, counter, x[2])\n",
        "\n",
        "qmod = create_model(main)\n",
        "\n",
        "# to run on Colab (the exception is excecuted only the first time you run in the current Colab session)\n",
        "try:\n",
        "    qprog = synthesize(qmod)\n",
        "#except ClassiqAPIError:     # this does't work, it does not recognize the name \"ClassiqAPIError\"\n",
        "except Exception:            # this captures every error...\n",
        "    authenticate(overwrite=True)\n",
        "    qprog = synthesize(qmod)\n",
        "\n",
        "show(qprog)"
      ],
      "metadata": {
        "id": "mLT_gjmBxRDN",
        "colab": {
          "base_uri": "https://localhost:8080/"
        },
        "outputId": "8681336f-ba31-4734-ae8d-ca2e350bd1f3"
      },
      "execution_count": 4,
      "outputs": [
        {
          "output_type": "stream",
          "name": "stdout",
          "text": [
            "Opening: https://platform.classiq.io/circuit/83013acc-5358-4eb0-910f-a16ee4cffb30?version=0.44.0\n"
          ]
        }
      ]
    },
    {
      "cell_type": "markdown",
      "source": [
        "## count() function\n",
        "(Function developed by Ban Tran, Filippo Tramonto)"
      ],
      "metadata": {
        "id": "1LGPNFrT-KmT"
      }
    },
    {
      "cell_type": "markdown",
      "source": [
        "The original author's function processes pairs of qubit indices, computes phases, and yields the results using the `phase_add` function. The parameters used are the quantum registers `x` and `counter`, `pairs`, a list of pairs of indices, and `sign`, a factor +1 or -1 used in phase calculation.\n",
        "The function loops through each pair `(i, j)` in `pairs`.\n",
        "If `i` is equal to `j`, a single control qubit,`x[i]`, is used, , and `fctr` is set to 1.\n",
        "If `i` is not equal to `j`, two control qubits, `x[i]` and `x[j]` are used, and `fctr` is set to 2.\n",
        "The phase `phase` is calculated using `sign`, `fctr`, and the length of `counter`. The `phase_add` function is called with the calculated `phase`, `counter`, and `controls`.\n",
        "\n",
        "The converted function in Qmod/Classiq Python SDK performs the same operations but is adapted to Classiq's syntax and functionality.\n",
        "The main difference in the implemantation in Classiq Python SDK is we had to split the phase_add function into two functions. The reason is explained below in the subsection on the challeges faced.\n",
        "\n",
        "The `phase_add_1qubit` function is called if there is a single control qubit.\n",
        "\n",
        "The `phase_add_2qubits` function is called if there are two control qubits.\n",
        "\n",
        "**Challenges faced while implementing count() in Qmod/Classiq Python SDK**\n",
        "\n",
        "\n",
        "1.   Inability to use classical Python expressions and the Classiq's `repeat()` function in substitution of the `for` loop.\n",
        "\n",
        "* **Issue**: classical python expressions used in author's code could not be written in symbolic expressions with Classiq's variable types.  And we had similar issues in using the `repeat()` function.\n",
        "\n",
        "* **Solution**: We removed `@qfunc` decorator to use classical python expressions and substituted the repeat function with the usual Python `for` loop to iterate over the pairs of qubit indices.\n",
        "\n",
        "2.   Passing multiple qubits of a QArray as a single argument to a function:\n",
        "\n",
        "* **Issue**: In Qmod/Classiq-Python-SDK, it is not possible to pass two qubits of a QArray register (`x[i]` and `x[ij]`) as a single QArray argument to the `phase_add` function, like it is done in Cirq author's code. Furthermore, a possible soulution came out to us was using the `bind` function to cast the two qubits into a single QArray varaible and then pass this to the function. This solution it is not possible, because passing two subscripted elements of QArray to `bind` is not supported.\n",
        "\n",
        "* **Solution**: We addressed this by splitting the phase_add function into two separate functions, `phase_add_1qubit` and `phase_add_2qubits`, in order to handle separately the two cases of one control qubit and two control qubits. Additionally, we utilized the bind function within the `phase_add_2qubits` function to cast the control qubits of `x` register into one QArray variable to pass to the `MCZPhase` gate/function.\n",
        "\n",
        "* Further Action: We reached out to Classiq on Slack to discuss and seek a resolution for this issue, and thanks to their replies we found the solution.\n",
        "\n",
        "(Text by: Nahid Binandeh Dehaghani, Filippo Tramonto, Ban Tran)\n"
      ],
      "metadata": {
        "id": "1lxFbur8KNEw"
      }
    },
    {
      "cell_type": "code",
      "source": [
        "## The original cirq function\n",
        "#######################################################\n",
        "# def count(x, counter, pairs, sign):\n",
        "#     for i,j in pairs:\n",
        "#         if i == j:\n",
        "#             controls = [x[i]]\n",
        "#             fctr = 1\n",
        "#         else:\n",
        "#             controls = [x[i], x[j]]\n",
        "#             fctr = 2\n",
        "\n",
        "#         phase = sign*fctr*(2**(1-len(counter)))\n",
        "#         yield phase_add(phase, counter, controls)\n",
        "######################################################\n",
        "# The converted function in Qmod/Classiq Python SDK\n",
        "#### Developed by ######################################\n",
        "# Ban Tran, Filippo Tramonto\n",
        "######################################################\n",
        "def count(x: QArray[QBit], counter: QArray[QBit], pairs, sign) -> None:\n",
        "    # Loop the array of qubit index pairs to set 1 or 2 qubits of x register as controls register. For example, the array could be [(1,2), (1, 3), (0,2)]\n",
        "    for i,j in pairs:\n",
        "        if i == j:\n",
        "            # If two indexes are equal, set x[i] qubit as controls qubit\n",
        "            fctr = 1\n",
        "            # Calculate phase for the phase_add_1qubit function\n",
        "            phase = sign *fctr *(2**(1-counter.len))\n",
        "            # Call the phase_add_1qubit function\n",
        "            phase_add_1qubit(phase, counter, x[i])\n",
        "        else:\n",
        "            # If two indexes are different, set 2 qubits x[i] and x[j] as the controls\n",
        "            fctr = 2\n",
        "            # Calculate phase for the phase_add_2qubits function\n",
        "            phase = sign *fctr *(2**(1-counter.len))\n",
        "            # Call the phase_add_2qubits function\n",
        "            phase_add_2qubits(phase, counter, x[i], x[j])"
      ],
      "metadata": {
        "id": "mJqEM1Lw-Afb"
      },
      "execution_count": 5,
      "outputs": []
    },
    {
      "cell_type": "markdown",
      "source": [
        "### Test of the count function implemenation\n",
        "\n",
        "The test checks if the model creation and program synthesis works, without errors."
      ],
      "metadata": {
        "id": "UxA2CZfVO8Vv"
      }
    },
    {
      "cell_type": "code",
      "source": [
        "# TEST CODE FOR MODEL CREATION AND SYNTHESIS OF count FUNCTION ####\n",
        "############## Developed by #######################################\n",
        "# Filippo Tramonto\n",
        "###################################################################\n",
        "import math\n",
        "@qfunc\n",
        "def main(x: Output[QArray[QBit]], counter: Output[QArray[QBit]]):\n",
        "\n",
        "    N = 21\n",
        "    domain_max = (N+1)//2 - 1\n",
        "    n_x = domain_max.bit_length()\n",
        "    allocate(n_x,x)\n",
        "\n",
        "    n_counter = int(math.log(n_x) + 1)\n",
        "    allocate(n_counter, counter)\n",
        "\n",
        "    pairs = [(1,1),(0,2)]\n",
        "    count(x, counter, pairs, sign=+1)\n",
        "\n",
        "qmod = create_model(main)\n",
        "\n",
        "# to run on Colab (the exception is excecuted only the first time you run in the current Colab session)\n",
        "try:\n",
        "    qprog = synthesize(qmod)\n",
        "#except ClassiqAPIError:     # this does't work, it does not recognize the name \"ClassiqAPIError\"\n",
        "except Exception:            # this captures every error...\n",
        "    authenticate(overwrite=True)\n",
        "    qprog = synthesize(qmod)\n",
        "\n",
        "show(qprog)"
      ],
      "metadata": {
        "id": "HJTMYxrovdRh",
        "colab": {
          "base_uri": "https://localhost:8080/"
        },
        "outputId": "7199f057-f8f4-400c-9983-8ef883ba9ee3"
      },
      "execution_count": 6,
      "outputs": [
        {
          "output_type": "stream",
          "name": "stdout",
          "text": [
            "Opening: https://platform.classiq.io/circuit/4f9b16ab-db71-43ea-8897-65d609ef73fc?version=0.44.0\n"
          ]
        }
      ]
    },
    {
      "cell_type": "markdown",
      "source": [
        "## qft() and iqft() functions\n",
        "(Function developed by Filippo Tramonto)"
      ],
      "metadata": {
        "id": "RsczIFGgsOnO"
      }
    },
    {
      "cell_type": "markdown",
      "source": [
        "The original paper functions `qft` and `iqft`, coded in Cirq, implement the Quantum Fourier Transform (QFT) and its inverse (IQFT). However, when we attempted to use Classiq/Qmod's `qft` function (with `iqft` as its inverse obtained using the `invert()` function), the results did not match those produced by running the original paper's code. Specifically, during our comparison of the results from our Classiq implementation with those obtaind with the original code, we discovered the following:\n",
        "\n",
        "When we used Classiq's `qft` and `iqft` functions, the results did not align, due to little differences in the actual implementations.\n",
        "\n",
        "Conversely, when we translated the original qft function from the paper into Classiq, the results were identical to those of the original code.\n",
        "\n",
        "In the following, we provide a detailed explanation of `qft` and `iqft` functions for the original code developed in Cirq and our implemented code developed in Classiq Python SDK.\n",
        "\n",
        "The `qft` function in Cirq uses the parameter reg as an array of qubits. Then, iterates over the qubits in reverse order in an outer loop, and applies controlled phase rotations with a phase factor $1/2^{m-k}$ (in Qmod it would be $\\pi/2^{m-k}$ due to the $\\pi$ factor difference) in an inner loop. Then, applies a Hadamard gate to each qubit. For the `iqft` function, the phase factor is $-1/2^{m-k}$.\n",
        "\n",
        "We called the functions translated in Classiq Python SDK, as `qft_custom` and `iqft_qustom`, to differentiate from the Classiq's `qft`.\n",
        "\n",
        "The the translated function of the paper code `qft` fucntion is structured in 3 functions:\n",
        "\n",
        "* `qft_custom`: The main function. The outer loop of the QFT is implemented with the `repeat` function that iterates over the qubits of the register, and the lambda function calls `qft_outer_iteration` for each index `k`.\n",
        "\n",
        "* `qft_outer_iteration`: It handles the iteration of the outer loop. Here a index `kk` is calculated as `reg.len -k -1` to iterate in reverse order over the register, because with the `repeat` function the iterator index always goes from 0 to the total number of iterations (`count` parameter of `repeat`). For the inner loop, the `repeat` function iterates over the subsequent qubits starting from `kk + 1`.\n",
        "The `count` parameter of the repeat funciton is defined as the total number of iterations of the inner loop, `reg.len -kk -1`, that in this case depends by the value of `kk`, because the `m` index goes from `kk +1` to the end of the register.\n",
        "The lambda function calls `qft_inner_iteration` for each pair of indices `m` and `kk`. Then, after the innner loop, and inside the outer loop, a Hadamard gate (H) is applied to the qubit at index `kk`.\n",
        "\n",
        "* `qft_inner_iteration`: QFT inner iteration function handles the iteration of the inner loop of the QFT. The index `mm` is  defined as `m + kk +1`  to get the correct original index starting from `kk + 1`. The phase calculation computes the phase shift as `1 / 2^(mm - kk)`. Then, the multi-controlled phase gate `MCZPhase` is applied to apply the controlled phase gate between the qubits at indices `mm` and `kk`.\n",
        "\n",
        "For the IQFT, in our code in Classiq Python SDK the `iqft_custom` is implemented using the `invert` function to apply the inverse of the `qft_custom` function.\n",
        "\n",
        "(Text: by Nahid Binandeh Dehaghani, Filippo Tramonto)"
      ],
      "metadata": {
        "id": "Ztz7Qt9cycRC"
      }
    },
    {
      "cell_type": "code",
      "source": [
        "# The original cirq functions\n",
        "###################################################\n",
        "#def qft(reg):\n",
        "#    for k, yk in list(enumerate(reg))[::-1]:\n",
        "#        for m, ym in list(enumerate(reg))[k+1:]:\n",
        "#            phase = 1/2**(m-k)\n",
        "#            yield CZpow(phase, ym, yk)\n",
        "#        yield cirq.H(yk)\n",
        "#def iqft(reg):\n",
        "#    for k, yk in enumerate(reg):\n",
        "#        yield cirq.H(yk)\n",
        "#        for m, ym in list(enumerate(reg))[k+1:]:\n",
        "#            phase = -(1/2**(m-k))\n",
        "#            yield CZpow(phase, ym, yk)\n",
        "############## Developed by #########################\n",
        "# Filippo Tramonto\n",
        "###################################################\n",
        "@qfunc\n",
        "def qft_custom(reg: QArray[QBit]):\n",
        "    # outer loop with index k\n",
        "    repeat(count=reg.len,\n",
        "          iteration= lambda k: qft_outer_iteration(k,reg) )\n",
        "\n",
        "@qfunc\n",
        "def qft_outer_iteration(k: CInt, reg: QArray[QBit]):\n",
        "    kk = reg.len -k -1  # to have the loop in reverse order (from reg.len-1 to 0)\n",
        "    # inner loop with index m\n",
        "    repeat(count=reg.len-kk-1,    # in the orginal function the total number of iterations is len(reg)-k-1\n",
        "          iteration= lambda m: qft_inner_iteration(m, kk, reg) )\n",
        "    H(reg[kk])\n",
        "\n",
        "@qfunc\n",
        "def qft_inner_iteration(m: CInt, kk: CInt, reg: QArray[QBit]):\n",
        "    mm = m + kk +1    # to have the original index m that starts from k+1\n",
        "    phase = 1/2**(mm-kk)\n",
        "    MCZPhase(phase, reg[mm], reg[kk])\n",
        "\n",
        "@qfunc\n",
        "def iqft_custom(reg: QArray[QBit]):\n",
        "    invert(lambda: qft_custom(reg))"
      ],
      "metadata": {
        "id": "vd-lFQROpBE2"
      },
      "execution_count": 7,
      "outputs": []
    },
    {
      "cell_type": "markdown",
      "source": [
        "## x2modN_fast function\n",
        "(Function developed by Filippo Tramonto)"
      ],
      "metadata": {
        "id": "OP1dLzRzSu59"
      }
    },
    {
      "cell_type": "markdown",
      "source": [
        "The `x2modN_fast` function implements a part of an efficient quantum algorithm to calculate $𝑥^2\\mod N$, that in the paper is called gate-optimezed \"phase circuit\". This circuit is one of the two versions of the phase circuit described in the paper.\n",
        "\n",
        "The function leverages the quantum Fourier transform and controlled phase rotations to achieve this computation. Below is a detailed explanation of the function, both in its original Cirq form and its converted version in Classiq Python SDK.\n",
        "\n",
        "We first delve into the explanation of the original function of the paper code in Cirq.\n",
        "\n",
        "The number of qubits in the input register x is determined by `n = len(x)`. The instruction `counter = ancillas.new_register(n.bit_length())` allocates a new ancillary register `counter` with enough qubits to represent the bit length of `n`. This register will help track the phases needed for the computation. Then, the Hadamard Transform is applied the counter register, creating a superposition of all possible states. This step is important for setting up the quantum state for the subsequent phase estimation.\n",
        "\n",
        "The computational loop iterates over `l` from `0` to `2n-1`, which represents different stages of the modular multiplication process. `qubit_pairs` is computed as pairs indices of qubits that will act as control qubits for the phase rotations. Then, the phases in the `counter` register are updated based on the input register `x` and the current pair of qubits and IQFT is applied to the `counter` register to convert the phase information into the computational basis.\n",
        "\n",
        "For each qubit in the counter, a phase proportional to $2 \\cdot 2^{k+l} / N$ is added to the `y` register, which accumulates the result of the modular multiplication.\n",
        "\n",
        "To ensure the circuit is reversible, the inverse of the functions `qft` and `count` and the Hadamard Transfor are applied to uncompute the state, and thus restore the ancillary qubits (`counter`) to their initial states. The ancillary counter register is discarded after its role in the computation is complete.\n",
        "\n",
        "The conversion to Classiq retains the structure and logic of the original Cirq implementation while adapting to the syntax and capabilities of the Classiq framework.\n",
        "\n",
        "The adaptions that are made here to meet the Classiq syntax and capabilities are:\n",
        "\n",
        "1. when the `counter` register is defined it is simply declared and initialized with the `allocate` function, instead in the original paper code it is used an `ancillas` class to manage the discard and reuse of the ancilla qubits.\n",
        "\n",
        "2. we moved the initialization of `n_x` and `n_counter` the lenght of `x` register (in the original code is `x`) in the global scope.\n",
        "\n",
        "3. we leveraged the `hadamard_trasnform` function provided by Classiq instead of itraating over the register qubits and applying the hadamard gate to each qubit\n",
        "\n",
        "**Challenges faced while implementing x2modN_fast() in Classiq Python SDK**\n",
        "\n",
        "In the translation of this function to Classiq framework, we faced  challenges similar to those met with the `count()` function.\n",
        "\n",
        "* **Issues**: classical Python expressions used in author's code could not be written in symbolic expressions with Classiq's variable types, We had similar issues also in using the `repeat` function.\n",
        "\n",
        "* **Solution**: We removed `@qfunc` decorator to use classical Python expressions and substituted the `repeat` function with the usual Python `for` loop to iterate over the pairs of qubit indices.\n",
        "\n",
        "(Text by Nahid Binandeh Dehaghani, Filippo Tramonto)\n",
        "\n"
      ],
      "metadata": {
        "id": "z4uOOK1gKYHD"
      }
    },
    {
      "cell_type": "code",
      "source": [
        "## The original cirq function\n",
        "#################################################################################\n",
        "#def x2modN_fast(x, y, ancillas, N):\n",
        "#    n = len(x)\n",
        "#    counter = ancillas.new_register(n.bit_length())\n",
        "#    for q in counter:\n",
        "#        yield cirq.H(q)\n",
        "\n",
        "#    for l in range(2*n-1):\n",
        "#        qubit_pairs = [(i, l-i) for i in range(max(0, l-n+1), l//2 + 1)]\n",
        "\n",
        "#        yield count(x, counter, qubit_pairs, sign=+1)\n",
        "#        yield iqft(counter)\n",
        "\n",
        "#        for k, ck in enumerate(counter):\n",
        "#            phase = 2*2**(k+l) / N\n",
        "#            yield phase_add(phase, y, [ck])\n",
        "\n",
        "        # uncompute\n",
        "#        yield qft(counter)\n",
        "#        yield count(x, counter, qubit_pairs, sign=-1)\n",
        "\n",
        "#    for q in counter:\n",
        "#        yield cirq.H(q)\n",
        "\n",
        "#    ancillas.discard(counter)\n",
        "############## Developed by #########################\n",
        "# Filippo Tramonto\n",
        "###################################################\n",
        "# The converted function in Qmod/Classiq Python SDK\n",
        "##################################################\n",
        "def x2modN_fast(x: QArray[QBit], y: QArray[QBit], N: int) -> None:\n",
        "    counter = QArray(\"counter\")\n",
        "    allocate(n_counter, counter)\n",
        "    hadamard_transform(counter)\n",
        "\n",
        "    for l in range(2*n_x -1):\n",
        "        qubit_pairs = [(i, l-i) for i in range(max(0, l-n_x+1), l//2 + 1)]\n",
        "\n",
        "        count(x, counter, qubit_pairs, sign= 1)\n",
        "        iqft_custom(counter)\n",
        "\n",
        "        for k in range(n_counter):\n",
        "            phase = 2 * 2**(k+l) / N\n",
        "            phase_add_1qubit(phase, y, counter[k])\n",
        "\n",
        "        # uncompute\n",
        "        qft_custom(counter)\n",
        "        count(x, counter, qubit_pairs, sign= -1)\n",
        "\n",
        "    hadamard_transform(counter)"
      ],
      "metadata": {
        "id": "X2g8TAVRStj3"
      },
      "execution_count": 8,
      "outputs": []
    },
    {
      "cell_type": "markdown",
      "source": [
        "## Notes about the use of x2modN_fast function and other functions\n",
        "\n",
        "When the function `x2modN_fast` is used in a test function like that defined in the code cell below, or the function `x2_mod_N_phase` described in the nex section, the classical parameters, `n_x`, `n_y`, `n_counter`  for the lenghts of the `x`, `y` and the ancilla `counter` registers have to be defined in the global scope.\n",
        "\n",
        "`n_x` is computed as bit lenght of `domain_max` that defines the max value of the domain of $x^2 \\mod N$, starting from 0 (i.e. the domain of $x^2 \\mod N$ is [0,`domain_max`]). `domain_max` is defined as the last integer before $N/2$ (i.e. if $N$ is odd is the integer part of $N/2$, if $N$ even is $N/2-1$).\n",
        "\n",
        "`n_y` is computed as bit lenght of $N$ (since the maxmium value for $y$ is $N-1$) plus the number of extra bits `n_extra_bits` required to increase the accuracy of the computation of  $x^2 \\mod N$. This is due the approximated nature of the computation computation, limited by the number of bits/qubits to represent the binary fraction $w = x^2/N = 0.w_{m-1} w_{m-2} ... w_1 w_0$,  where $m$ is the total number of bits `n_y` and the bit strings $w_0$, $w_1$, ..., $w_{m-2}$, $w_{m-1}$ is the binary representation of the integer number that divided by $2^m$ gives the fraction $w = x^2/N $.\n",
        "\n",
        "`n_counter` is computed as  the bit lenght of `n_x`.\n",
        "\n",
        "(Text by Nahid Binandeh Dehaghani, Filippo Tramonto)"
      ],
      "metadata": {
        "id": "4xQ71_ZMZHty"
      }
    },
    {
      "cell_type": "markdown",
      "source": [
        "### Test of the x2modN_fast function implemenation\n",
        "\n",
        "The test checks if the model creation and program synthesis works, without errors."
      ],
      "metadata": {
        "id": "gj7VvwHSPJj3"
      }
    },
    {
      "cell_type": "code",
      "source": [
        "# TEST CODE FOR MODEL CREATION AND SYNTHESIS OF x2modN_fast FUNCTION\n",
        "############## Developed by #########################\n",
        "# Filippo Tramonto\n",
        "###################################################\n",
        "N = 21\n",
        "n_extrabits = 0\n",
        "# the next 2 lines, are taken from the authors's code in file check_phase_circuits.py (in main() function)\n",
        "# domain_max is the max value of the domain of x^2 mod N, i.e. the max value for x (starting from 0)\n",
        "# the domain of x^2 mod N, is [0,domain_max]\n",
        "# the formula below means: if N is even, domain_max= N/2 -1 ; if N is odd domain_max= floor(N/2)\n",
        "domain_max = (N+1)//2 - 1\n",
        "n_x = domain_max.bit_length()\n",
        "n_y = N.bit_length() + n_extrabits # in the orginal code: args.extra_bits\n",
        "n_counter = n_x.bit_length()       # number of qubits of the ancilla register counter\n",
        "\n",
        "@qfunc\n",
        "def main(x: Output[QArray[QBit]], y: Output[QArray[QBit]]):\n",
        "    allocate(n_x,x)\n",
        "    allocate(n_y,y)   # in the orginal code: N.bit_length()+args.extra_bits\n",
        "\n",
        "    x2modN_fast(x, y, N)\n",
        "\n",
        "qmod = create_model(main)\n",
        "write_qmod(qmod, \"x2modN_fast-N=21\")\n",
        "\n",
        "# to run on Colab (the exception is excecuted only the first time you run in the current Colab session)\n",
        "try:\n",
        "    qprog = synthesize(qmod)\n",
        "#except ClassiqAPIError:     # this does't work, it does not recognize the name \"ClassiqAPIError\"\n",
        "except Exception:            # this captures every error...\n",
        "    authenticate(overwrite=True)\n",
        "    qprog = synthesize(qmod)\n",
        "\n",
        "show(qprog)"
      ],
      "metadata": {
        "id": "-YUlh4rfQPs-",
        "colab": {
          "base_uri": "https://localhost:8080/"
        },
        "outputId": "013b231f-7c67-4dd0-8cc9-58e750e5133f"
      },
      "execution_count": 9,
      "outputs": [
        {
          "output_type": "stream",
          "name": "stdout",
          "text": [
            "Opening: https://platform.classiq.io/circuit/df051b1f-d6fb-40e3-8197-620a6f4994c2?version=0.44.0\n"
          ]
        }
      ]
    },
    {
      "cell_type": "markdown",
      "source": [
        "## x2_mod_N_phase() function\n",
        "\n",
        "(Function developed by Nahid Binandeh Dehaghani and Filippo Tramonto)"
      ],
      "metadata": {
        "id": "Lvre9Qi1IY8y"
      }
    },
    {
      "cell_type": "markdown",
      "source": [
        "This function, `x2_mod_N_phase`, is designed to generate a quantum circuit for calculating $x^2 \\mod N$.\n",
        "\n",
        "The original code in Cirq provides the implemenations of 4 quantum circuits for the computation of $x^2 \\mod N$, including the 2 \"phase cirucits\",  as they are called in the paper. In paper text they are called gate-optimized and qubit-optimized. These two cirucits in the Cirq code are called \"fast\" and \"narrow\" respectively.\n",
        "\n",
        "Our Classiq implementation focuses only on the \"fast\" circuit.\n",
        "\n",
        "Now, let's describe the original code function.\n",
        "`x` indicates a quantum array (register) of qubits representing the values x of the Rabin's function. `y` is the quantum array of qubits representing the result register `y`, where the result of $x^2 \\mod N$ will be stored, `ancillas`  is the an instance of the `ancilla` class defined in another part of the paper code, `circuit_type` is a string variable to choose the circuit among the \"fast\" and \"narrow\" circuit. $N$ is a classical integer representing the modulus $N$. The function starts by applying the Hadamard gate to every qubit in the x and y registers. The Hadamard gate (H) creates a superposition of all possible computatinal basis states, which is crucial for parallel quantum processing in many algorithms, including modular exponentiation.\n",
        "This prepares the qubits for the subsequent quantum operations by placing them in an equal superposition of their basis states. The function `x2modN_fast` is called, which is responsible for performing the core computation of $x^2 \\mod N$\n",
        "\n",
        "Finally, the function applies the inverse quantum Fourier transform (iqft) to the y register to finalize the computation by ensuring that the result stored in the y register is in the correct form.\n",
        "\n",
        "The translation to Classiq retains the structure and logic of the original Cirq implementation.\n",
        "\n",
        "The main adaption made here is that we leveraged the `hadamard_trasnform` function provided by Classiq instead of itraating over the register qubits and applying the hadamard gate to each qubit\n",
        "\n",
        "(Text by Nahid Binandeh Dehaghani, Filippo Tramonto)\n"
      ],
      "metadata": {
        "id": "389hpWXMKlI5"
      }
    },
    {
      "cell_type": "code",
      "source": [
        "#The original code in Cirq is copied below. However, we remember that we only do the fast part and we skip narrow.\n",
        "#def x2_mod_N_phase(N, x, y, ancillas, circuit_type):\n",
        "#    '''\n",
        "#    Generate the full circuit\n",
        "#    '''\n",
        "#    for q in itertools.chain(x, y):\n",
        "#        yield cirq.H(q)\n",
        "#\n",
        "#    if circuit_type == 'fast':\n",
        "#        yield x2modN_fast(x, y, ancillas, N)\n",
        "#        yield iqft(y)\n",
        "#\n",
        "#    elif circuit_type == 'narrow':\n",
        "#        for k, yk in enumerate(y):\n",
        "#            yield x2modN_narrow_single(x, [yk], ancillas, N, len(y)-k-1)\n",
        "#            yield cirq.H(yk)\n",
        "#            for m, ym in list(enumerate(y))[k+1:]:\n",
        "#                phase = -(1/2**(m-k))\n",
        "#                yield CZpow(phase, ym, yk)\n",
        "#\n",
        "#    else:\n",
        "#        raise ValueError('unknown circuit type')\n",
        "#######################################################\n",
        "\n",
        "# We need to use x2modN_fast and iqft  defined in the previous cells\n",
        "\n",
        "############## Developed by #########################\n",
        "# Nahid Binandeh Dehaghani and Filippo Tramonto\n",
        "############## Developed by #########################\n",
        "\n",
        "# Generate the full circuit for the \"fast\" circuit type\n",
        "@qfunc\n",
        "def x2_mod_N_phase(x: QArray[QBit], y: QArray[QBit]) -> None:\n",
        "\n",
        "    # Apply Hadamard gates to all qubits in x and y\n",
        "    hadamard_transform(x)  # Apply Hadamard transform\n",
        "    hadamard_transform(y)  # Apply Hadamard transform\n",
        "\n",
        "    x2modN_fast(x, y, N)\n",
        "    iqft_custom(y)"
      ],
      "metadata": {
        "id": "SqSXV22tJiq5"
      },
      "execution_count": 10,
      "outputs": []
    },
    {
      "cell_type": "markdown",
      "source": [
        "### Test of the x2_mod_N_phase function implemenation\n",
        "\n",
        "The test checks if the model creation and program synthesis works, without errors."
      ],
      "metadata": {
        "id": "5gpDHMAWD0HZ"
      }
    },
    {
      "cell_type": "code",
      "source": [
        "# TEST CODE FOR MODEL CREATION AND SYNTHESIS OF x2_mod_N_phase FUNCTION\n",
        "############## Developed by #########################\n",
        "# Filippo Tramonto\n",
        "###################################################\n",
        "N = 21\n",
        "n_extrabits = 0\n",
        "# the next 2 lines, are taken from the authors's code in file check_phase_circuits.py (in main() function)\n",
        "# domain_max is the max value of the domain of x^2 mod N, i.e. the max value for x (starting from 0)\n",
        "# the domain of x^2 mod N, is [0,domain_max]\n",
        "# the formula below means: if N is even, domain_max= N/2 -1 ; if N is odd domain_max= floor(N/2)\n",
        "domain_max = (N+1)//2 - 1\n",
        "n_x = domain_max.bit_length()\n",
        "n_y = N.bit_length() + n_extrabits # in the orginal code: args.extra_bits\n",
        "n_counter = n_x.bit_length()       # number of qubits of the ancilla register counter\n",
        "\n",
        "@qfunc\n",
        "def main(x: Output[QNum], y: Output[QNum]):\n",
        "    allocate(n_x,x)\n",
        "    allocate(n_y,y)   # in the orginal code: N.bit_length()+args.extra_bits\n",
        "\n",
        "    x2_mod_N_phase(x, y)\n",
        "\n",
        "qmod = create_model(main)\n",
        "write_qmod(qmod, \"main_x2_mod_N_phase-N=21\")\n",
        "\n",
        "# to run on Colab (the exception is excecuted only the first time you run in the current Colab session)\n",
        "try:\n",
        "    qprog = synthesize(qmod)\n",
        "#except ClassiqAPIError:     # this does't work, it does not recognize the name \"ClassiqAPIError\"\n",
        "except Exception:            # this captures every error...\n",
        "    authenticate(overwrite=True)\n",
        "    qprog = synthesize(qmod)\n",
        "\n",
        "show(qprog)"
      ],
      "metadata": {
        "colab": {
          "base_uri": "https://localhost:8080/"
        },
        "outputId": "8d55e0a3-49a5-4802-a451-308228cf6a57",
        "id": "iULTOEjXD0Ha"
      },
      "execution_count": 11,
      "outputs": [
        {
          "output_type": "stream",
          "name": "stdout",
          "text": [
            "Opening: https://platform.classiq.io/circuit/4275aeec-ce64-48ce-a787-540255352aa6?version=0.44.0\n"
          ]
        }
      ]
    },
    {
      "cell_type": "markdown",
      "source": [
        "## Tests of phase circuit with our implementation and with paper code, wite the Statevecotor simulator"
      ],
      "metadata": {
        "id": "zAOtiUDESU8v"
      }
    },
    {
      "cell_type": "markdown",
      "source": [
        "We have tested the whole phase circuit implemented in Classiq Python SDK , in order to compare directly with the results obtained by executing the author code. In the public repository part of the supplementary meteria of the paper there is a Python file in Circ SDK for checkin the correctness of the execution of the phase circuits and the accuracy of the computed values of $y = x^2 \\!\\!\\! \\mod \\!\\! N$ . This checking is performed by running the statevector simulator.\n",
        "\n",
        "The tests (of the 2 codes) were performed with the same input paramters. And they gave indentical results."
      ],
      "metadata": {
        "id": "-ikRScIOM6Cd"
      }
    },
    {
      "cell_type": "markdown",
      "source": [
        "### Test of phase circuit with OUR implementaion in Classiq Python SDK"
      ],
      "metadata": {
        "id": "fCJ4kgJASnTw"
      }
    },
    {
      "cell_type": "markdown",
      "source": [
        "#### Defintion the test function that performs all test, containing also the defintion of the quantum main() function"
      ],
      "metadata": {
        "id": "zYEEsgrvoN-W"
      }
    },
    {
      "cell_type": "code",
      "source": [
        "############## Developed and tested by #########################\n",
        "# Filippo Tramonto, Ban Tran\n",
        "#################################################################\n",
        "\n",
        "## import and setting execution preferences to run on the statevector simulator\n",
        "from classiq.execution import (\n",
        "    ClassiqBackendPreferences,\n",
        "    ClassiqSimulatorBackendNames,\n",
        "    ExecutionPreferences,\n",
        ")\n",
        "from classiq.synthesis import set_execution_preferences\n",
        "from classiq.execution import ExecutionDetails\n",
        "\n",
        "backend_preferences = ClassiqBackendPreferences(\n",
        "    backend_name=ClassiqSimulatorBackendNames.SIMULATOR_STATEVECTOR\n",
        ")\n",
        "execution_preferences=ExecutionPreferences(\n",
        "    num_shots=1,\n",
        "    backend_preferences=backend_preferences\n",
        ")\n",
        "\n",
        "## an utility function\n",
        "def round_complex(x,digits):\n",
        "    x_real = round(x.real,digits)\n",
        "    x_imag = round(x.imag,digits)\n",
        "    if x_real == 0:  # to force it to zero when after the round it's \"-0.0\"\n",
        "        x_real = 0.0\n",
        "    if x_imag == 0:\n",
        "        x = round(x.real,digits)\n",
        "    else:\n",
        "        x = complex(x_real,x_imag)\n",
        "    return x\n",
        "\n",
        "## the actual function for testing whole phase circuit\n",
        "def test_phase_circuit_classiq():\n",
        "    print(\"N=\",N)\n",
        "    print(\"n_x:\",n_x)\n",
        "    print(\"n_y:\",n_y)\n",
        "    print(\"n_counter=\",n_counter)\n",
        "    print()\n",
        "\n",
        "    # Defintion of the main quantum function\n",
        "    @qfunc\n",
        "    def main(x: Output[QNum], y: Output[QNum]):\n",
        "\n",
        "        allocate(n_x,x)\n",
        "        allocate(n_y,y)\n",
        "\n",
        "        x2_mod_N_phase(x, y)\n",
        "\n",
        "    ## creation of quantum model (it executes also the classical operations)\n",
        "    qmod = create_model(main)\n",
        "\n",
        "    ## setting execution preferences to run on the statevector simulator\n",
        "    qmod = set_execution_preferences(\n",
        "        qmod,\n",
        "        execution_preferences=execution_preferences\n",
        "    )\n",
        "\n",
        "    write_qmod(qmod, f\"x2_mod_N_phase-Statevector-N={N}\")\n",
        "    ## synthesize the quantum program\n",
        "    qprog = synthesize(qmod)\n",
        "    show(qprog)\n",
        "\n",
        "    ## execution of the qunntum program\n",
        "    job = execute(qprog)\n",
        "\n",
        "    result = job.result()[0].value\n",
        "    print(\"URL:\",job.ide_url)\n",
        "    state_vector = result.state_vector\n",
        "    #for key, val in state_vector.items():\n",
        "    #    val = round_complex(complex(val),3)\n",
        "    #    print(f\"{key}: {val}\")\n",
        "\n",
        "    print(\"=========================\")\n",
        "    parsed_state_vector = result.parsed_state_vector\n",
        "    def myFunc(e):\n",
        "        return e.bitstring\n",
        "    parsed_state_vector.sort(key=myFunc)\n",
        "    for state in parsed_state_vector:\n",
        "        print(state.state,state.bitstring,round_complex(complex(state.amplitude),3))"
      ],
      "metadata": {
        "id": "g_Yz055mhTrJ"
      },
      "execution_count": 12,
      "outputs": []
    },
    {
      "cell_type": "markdown",
      "source": [
        "#### Actual run of the test with different values of N"
      ],
      "metadata": {
        "id": "ooyCeUuOqP7h"
      }
    },
    {
      "cell_type": "code",
      "source": [
        "# input classical parameters\n",
        "N = 5\n",
        "\n",
        "# domain_max is the max value of the domain of x^2 mod N, i.e. the max value for x\n",
        "# the domain of x^2 mod N, is [0,domain_max]\n",
        "# the formula below means: if N is even, domain_max= N/2 -1 ; if N is odd domain_max= floor(N/2)\n",
        "domain_max = (N+1)//2 - 1\n",
        "n_x = domain_max.bit_length()\n",
        "n_y = N.bit_length() + n_extrabits # in the orginal code: args.extra_bits\n",
        "n_counter = n_x.bit_length()       # number of qubits of the ancilla register counter\n",
        "\n",
        "#test execution\n",
        "test_phase_circuit_classiq()"
      ],
      "metadata": {
        "colab": {
          "base_uri": "https://localhost:8080/"
        },
        "id": "vnZ_EY6hqOob",
        "outputId": "8e5cccd0-b7d9-4c74-8c30-10a255a0949e",
        "collapsed": true
      },
      "execution_count": 13,
      "outputs": [
        {
          "output_type": "stream",
          "name": "stdout",
          "text": [
            "N= 5\n",
            "n_x: 2\n",
            "n_y: 3\n",
            "n_counter= 2\n",
            "\n",
            "Opening: https://platform.classiq.io/circuit/eede4cc9-de97-4de9-8765-49b0a602cbfe?version=0.44.0\n",
            "URL: https://platform.classiq.io/jobs/a957fb95-2cf2-4b6a-882f-3038bc066b7d\n",
            "=========================\n",
            "{'x': 0.0, 'y': 0.0} 0000000 0.5\n",
            "{'x': 1.0, 'y': 0.0} 0000001 (0.031+0.096j)\n",
            "{'x': 2.0, 'y': 0.0} 0000010 (0.031-0.096j)\n",
            "{'x': 3.0, 'y': 0.0} 0000011 (0.031-0.096j)\n",
            "{'x': 0.0, 'y': 1.0} 0000100 0.0\n",
            "{'x': 1.0, 'y': 1.0} 0000101 (-0.02+0.254j)\n",
            "{'x': 2.0, 'y': 1.0} 0000110 (0.045-0.053j)\n",
            "{'x': 3.0, 'y': 1.0} 0000111 (0.045-0.053j)\n",
            "{'x': 0.0, 'y': 2.0} 0001000 0.0\n",
            "{'x': 1.0, 'y': 2.0} 0001001 (0.173-0.339j)\n",
            "{'x': 2.0, 'y': 2.0} 0001010 (0.054-0.027j)\n",
            "{'x': 3.0, 'y': 2.0} 0001011 (0.054-0.027j)\n",
            "{'x': 0.0, 'y': 3.0} 0001100 0.0\n",
            "{'x': 1.0, 'y': 3.0} 0001101 (0.087-0.074j)\n",
            "{'x': 2.0, 'y': 3.0} 0001110 (0.061-0.005j)\n",
            "{'x': 3.0, 'y': 3.0} 0001111 (0.061-0.005j)\n",
            "{'x': 0.0, 'y': 4.0} 0010000 -0.0\n",
            "{'x': 1.0, 'y': 4.0} 0010001 (0.07-0.023j)\n",
            "{'x': 2.0, 'y': 4.0} 0010010 (0.07+0.023j)\n",
            "{'x': 3.0, 'y': 4.0} 0010011 (0.07+0.023j)\n",
            "{'x': 0.0, 'y': 5.0} 0010100 -0.0\n",
            "{'x': 1.0, 'y': 5.0} 0010101 (0.061+0.005j)\n",
            "{'x': 2.0, 'y': 5.0} 0010110 (0.087+0.074j)\n",
            "{'x': 3.0, 'y': 5.0} 0010111 (0.087+0.074j)\n",
            "{'x': 0.0, 'y': 6.0} 0011000 -0.0\n",
            "{'x': 1.0, 'y': 6.0} 0011001 (0.054+0.027j)\n",
            "{'x': 2.0, 'y': 6.0} 0011010 (0.173+0.339j)\n",
            "{'x': 3.0, 'y': 6.0} 0011011 (0.173+0.339j)\n",
            "{'x': 0.0, 'y': 7.0} 0011100 -0.0\n",
            "{'x': 1.0, 'y': 7.0} 0011101 (0.045+0.053j)\n",
            "{'x': 2.0, 'y': 7.0} 0011110 (-0.02-0.254j)\n",
            "{'x': 3.0, 'y': 7.0} 0011111 (-0.02-0.254j)\n",
            "{'x': 0.0, 'y': 0.0} 0100000 -0.0\n",
            "{'x': 1.0, 'y': 0.0} 0100001 -0.0\n",
            "{'x': 2.0, 'y': 0.0} 0100010 -0.0\n",
            "{'x': 3.0, 'y': 0.0} 0100011 -0.0\n",
            "{'x': 0.0, 'y': 1.0} 0100100 -0.0\n",
            "{'x': 1.0, 'y': 1.0} 0100101 -0.0\n",
            "{'x': 2.0, 'y': 1.0} 0100110 -0.0\n",
            "{'x': 3.0, 'y': 1.0} 0100111 -0.0\n",
            "{'x': 0.0, 'y': 2.0} 0101000 0.0\n",
            "{'x': 1.0, 'y': 2.0} 0101001 0.0\n",
            "{'x': 2.0, 'y': 2.0} 0101010 0.0\n",
            "{'x': 3.0, 'y': 2.0} 0101011 -0.0\n",
            "{'x': 0.0, 'y': 3.0} 0101100 -0.0\n",
            "{'x': 1.0, 'y': 3.0} 0101101 0.0\n",
            "{'x': 2.0, 'y': 3.0} 0101110 0.0\n",
            "{'x': 3.0, 'y': 3.0} 0101111 -0.0\n",
            "{'x': 0.0, 'y': 4.0} 0110000 -0.0\n",
            "{'x': 1.0, 'y': 4.0} 0110001 -0.0\n",
            "{'x': 2.0, 'y': 4.0} 0110010 0.0\n",
            "{'x': 3.0, 'y': 4.0} 0110011 0.0\n",
            "{'x': 0.0, 'y': 5.0} 0110100 -0.0\n",
            "{'x': 1.0, 'y': 5.0} 0110101 -0.0\n",
            "{'x': 2.0, 'y': 5.0} 0110110 -0.0\n",
            "{'x': 3.0, 'y': 5.0} 0110111 -0.0\n",
            "{'x': 0.0, 'y': 6.0} 0111000 -0.0\n",
            "{'x': 1.0, 'y': 6.0} 0111001 -0.0\n",
            "{'x': 2.0, 'y': 6.0} 0111010 -0.0\n",
            "{'x': 3.0, 'y': 6.0} 0111011 0.0\n",
            "{'x': 0.0, 'y': 7.0} 0111100 0.0\n",
            "{'x': 1.0, 'y': 7.0} 0111101 -0.0\n",
            "{'x': 2.0, 'y': 7.0} 0111110 0.0\n",
            "{'x': 3.0, 'y': 7.0} 0111111 0.0\n",
            "{'x': 0.0, 'y': 0.0} 1000000 -0.0\n",
            "{'x': 1.0, 'y': 0.0} 1000001 -0.0\n",
            "{'x': 2.0, 'y': 0.0} 1000010 -0.0\n",
            "{'x': 3.0, 'y': 0.0} 1000011 -0.0\n",
            "{'x': 0.0, 'y': 1.0} 1000100 -0.0\n",
            "{'x': 1.0, 'y': 1.0} 1000101 -0.0\n",
            "{'x': 2.0, 'y': 1.0} 1000110 -0.0\n",
            "{'x': 3.0, 'y': 1.0} 1000111 -0.0\n",
            "{'x': 0.0, 'y': 2.0} 1001000 -0.0\n",
            "{'x': 1.0, 'y': 2.0} 1001001 0.0\n",
            "{'x': 2.0, 'y': 2.0} 1001010 0.0\n",
            "{'x': 3.0, 'y': 2.0} 1001011 -0.0\n",
            "{'x': 0.0, 'y': 3.0} 1001100 -0.0\n",
            "{'x': 1.0, 'y': 3.0} 1001101 -0.0\n",
            "{'x': 2.0, 'y': 3.0} 1001110 -0.0\n",
            "{'x': 3.0, 'y': 3.0} 1001111 -0.0\n",
            "{'x': 0.0, 'y': 4.0} 1010000 0.0\n",
            "{'x': 1.0, 'y': 4.0} 1010001 -0.0\n",
            "{'x': 2.0, 'y': 4.0} 1010010 -0.0\n",
            "{'x': 3.0, 'y': 4.0} 1010011 -0.0\n",
            "{'x': 0.0, 'y': 5.0} 1010100 0.0\n",
            "{'x': 1.0, 'y': 5.0} 1010101 0.0\n",
            "{'x': 2.0, 'y': 5.0} 1010110 -0.0\n",
            "{'x': 3.0, 'y': 5.0} 1010111 0.0\n",
            "{'x': 0.0, 'y': 6.0} 1011000 -0.0\n",
            "{'x': 1.0, 'y': 6.0} 1011001 -0.0\n",
            "{'x': 2.0, 'y': 6.0} 1011010 -0.0\n",
            "{'x': 3.0, 'y': 6.0} 1011011 -0.0\n",
            "{'x': 0.0, 'y': 7.0} 1011100 0.0\n",
            "{'x': 1.0, 'y': 7.0} 1011101 0.0\n",
            "{'x': 2.0, 'y': 7.0} 1011110 0.0\n",
            "{'x': 3.0, 'y': 7.0} 1011111 0.0\n",
            "{'x': 0.0, 'y': 0.0} 1100000 -0.0\n",
            "{'x': 1.0, 'y': 0.0} 1100001 0.0\n",
            "{'x': 2.0, 'y': 0.0} 1100010 0.0\n",
            "{'x': 3.0, 'y': 0.0} 1100011 -0.0\n",
            "{'x': 0.0, 'y': 1.0} 1100100 -0.0\n",
            "{'x': 1.0, 'y': 1.0} 1100101 -0.0\n",
            "{'x': 2.0, 'y': 1.0} 1100110 0.0\n",
            "{'x': 3.0, 'y': 1.0} 1100111 -0.0\n",
            "{'x': 0.0, 'y': 2.0} 1101000 0.0\n",
            "{'x': 1.0, 'y': 2.0} 1101001 0.0\n",
            "{'x': 2.0, 'y': 2.0} 1101010 -0.0\n",
            "{'x': 3.0, 'y': 2.0} 1101011 0.0\n",
            "{'x': 0.0, 'y': 3.0} 1101100 0.0\n",
            "{'x': 1.0, 'y': 3.0} 1101101 0.0\n",
            "{'x': 2.0, 'y': 3.0} 1101110 -0.0\n",
            "{'x': 3.0, 'y': 3.0} 1101111 0.0\n",
            "{'x': 0.0, 'y': 4.0} 1110000 0.0\n",
            "{'x': 1.0, 'y': 4.0} 1110001 0.0\n",
            "{'x': 2.0, 'y': 4.0} 1110010 -0.0\n",
            "{'x': 3.0, 'y': 4.0} 1110011 -0.0\n",
            "{'x': 0.0, 'y': 5.0} 1110100 -0.0\n",
            "{'x': 1.0, 'y': 5.0} 1110101 -0.0\n",
            "{'x': 2.0, 'y': 5.0} 1110110 0.0\n",
            "{'x': 3.0, 'y': 5.0} 1110111 0.0\n",
            "{'x': 0.0, 'y': 6.0} 1111000 0.0\n",
            "{'x': 1.0, 'y': 6.0} 1111001 -0.0\n",
            "{'x': 2.0, 'y': 6.0} 1111010 0.0\n",
            "{'x': 3.0, 'y': 6.0} 1111011 -0.0\n",
            "{'x': 0.0, 'y': 7.0} 1111100 0.0\n",
            "{'x': 1.0, 'y': 7.0} 1111101 0.0\n",
            "{'x': 2.0, 'y': 7.0} 1111110 0.0\n",
            "{'x': 3.0, 'y': 7.0} 1111111 -0.0\n"
          ]
        }
      ]
    },
    {
      "cell_type": "markdown",
      "source": [
        "### Tests of author's code for the phase circuit for comparison\n",
        "\n",
        "Here we also run the author's code for the phase circuit to compare with our results to check if we have implemented the functions in Qmod correctly."
      ],
      "metadata": {
        "id": "vLScrCIjwCEM"
      }
    },
    {
      "cell_type": "markdown",
      "source": [
        "#### Import and packace installation cell"
      ],
      "metadata": {
        "id": "zsxveExnjEO0"
      }
    },
    {
      "cell_type": "code",
      "source": [
        "## TIP : run this cell 2 times, when you run this notebook on Colab or other enviroment where cirq pacckage is not installed\n",
        "##       the second time removes the annoying installation log prints\n",
        "try:\n",
        "    import cirq\n",
        "except ImportError:\n",
        "    print(\"installing classiq...\")\n",
        "    !pip install --quiet cirq==0.14.1\n",
        "    print(\"installed cirq.\")\n",
        "    import cirq\n",
        "\n",
        "import itertools"
      ],
      "metadata": {
        "id": "WauhvkCnwOsU",
        "colab": {
          "base_uri": "https://localhost:8080/"
        },
        "outputId": "2de679e3-0ac0-4dd3-b4f4-36d05dc9edc8"
      },
      "execution_count": 14,
      "outputs": [
        {
          "output_type": "stream",
          "name": "stdout",
          "text": [
            "installing classiq...\n",
            "\u001b[2K     \u001b[90m━━━━━━━━━━━━━━━━━━━━━━━━━━━━━━━━━━━━━━━━\u001b[0m \u001b[32m103.1/103.1 kB\u001b[0m \u001b[31m6.6 MB/s\u001b[0m eta \u001b[36m0:00:00\u001b[0m\n",
            "\u001b[2K     \u001b[90m━━━━━━━━━━━━━━━━━━━━━━━━━━━━━━━━━━━━━━━━\u001b[0m \u001b[32m229.9/229.9 kB\u001b[0m \u001b[31m15.8 MB/s\u001b[0m eta \u001b[36m0:00:00\u001b[0m\n",
            "\u001b[?25h  Preparing metadata (setup.py) ... \u001b[?25l\u001b[?25hdone\n",
            "\u001b[2K     \u001b[90m━━━━━━━━━━━━━━━━━━━━━━━━━━━━━━━━━━━━━━━━\u001b[0m \u001b[32m45.6/45.6 kB\u001b[0m \u001b[31m2.7 MB/s\u001b[0m eta \u001b[36m0:00:00\u001b[0m\n",
            "\u001b[?25h  Preparing metadata (setup.py) ... \u001b[?25l\u001b[?25hdone\n",
            "\u001b[2K   \u001b[90m━━━━━━━━━━━━━━━━━━━━━━━━━━━━━━━━━━━━━━━━\u001b[0m \u001b[32m1.8/1.8 MB\u001b[0m \u001b[31m58.5 MB/s\u001b[0m eta \u001b[36m0:00:00\u001b[0m\n",
            "\u001b[2K   \u001b[90m━━━━━━━━━━━━━━━━━━━━━━━━━━━━━━━━━━━━━━━━\u001b[0m \u001b[32m541.6/541.6 kB\u001b[0m \u001b[31m30.7 MB/s\u001b[0m eta \u001b[36m0:00:00\u001b[0m\n",
            "\u001b[2K   \u001b[90m━━━━━━━━━━━━━━━━━━━━━━━━━━━━━━━━━━━━━━━━\u001b[0m \u001b[32m48.8/48.8 kB\u001b[0m \u001b[31m3.3 MB/s\u001b[0m eta \u001b[36m0:00:00\u001b[0m\n",
            "\u001b[2K   \u001b[90m━━━━━━━━━━━━━━━━━━━━━━━━━━━━━━━━━━━━━━━━\u001b[0m \u001b[32m56.4/56.4 kB\u001b[0m \u001b[31m3.9 MB/s\u001b[0m eta \u001b[36m0:00:00\u001b[0m\n",
            "\u001b[2K   \u001b[90m━━━━━━━━━━━━━━━━━━━━━━━━━━━━━━━━━━━━━━━━\u001b[0m \u001b[32m594.0/594.0 kB\u001b[0m \u001b[31m32.9 MB/s\u001b[0m eta \u001b[36m0:00:00\u001b[0m\n",
            "\u001b[2K   \u001b[90m━━━━━━━━━━━━━━━━━━━━━━━━━━━━━━━━━━━━━━━━\u001b[0m \u001b[32m49.3/49.3 kB\u001b[0m \u001b[31m3.4 MB/s\u001b[0m eta \u001b[36m0:00:00\u001b[0m\n",
            "\u001b[2K   \u001b[90m━━━━━━━━━━━━━━━━━━━━━━━━━━━━━━━━━━━━━━━━\u001b[0m \u001b[32m145.5/145.5 kB\u001b[0m \u001b[31m9.4 MB/s\u001b[0m eta \u001b[36m0:00:00\u001b[0m\n",
            "\u001b[2K   \u001b[90m━━━━━━━━━━━━━━━━━━━━━━━━━━━━━━━━━━━━━━━━\u001b[0m \u001b[32m120.4/120.4 kB\u001b[0m \u001b[31m8.3 MB/s\u001b[0m eta \u001b[36m0:00:00\u001b[0m\n",
            "\u001b[2K   \u001b[90m━━━━━━━━━━━━━━━━━━━━━━━━━━━━━━━━━━━━━━━━\u001b[0m \u001b[32m53.6/53.6 kB\u001b[0m \u001b[31m3.0 MB/s\u001b[0m eta \u001b[36m0:00:00\u001b[0m\n",
            "\u001b[2K   \u001b[90m━━━━━━━━━━━━━━━━━━━━━━━━━━━━━━━━━━━━━━━━\u001b[0m \u001b[32m52.8/52.8 kB\u001b[0m \u001b[31m3.6 MB/s\u001b[0m eta \u001b[36m0:00:00\u001b[0m\n",
            "\u001b[2K   \u001b[90m━━━━━━━━━━━━━━━━━━━━━━━━━━━━━━━━━━━━━━━━\u001b[0m \u001b[32m65.1/65.1 kB\u001b[0m \u001b[31m4.5 MB/s\u001b[0m eta \u001b[36m0:00:00\u001b[0m\n",
            "\u001b[2K   \u001b[90m━━━━━━━━━━━━━━━━━━━━━━━━━━━━━━━━━━━━━━━━\u001b[0m \u001b[32m58.8/58.8 kB\u001b[0m \u001b[31m3.6 MB/s\u001b[0m eta \u001b[36m0:00:00\u001b[0m\n",
            "\u001b[2K   \u001b[90m━━━━━━━━━━━━━━━━━━━━━━━━━━━━━━━━━━━━━━━━\u001b[0m \u001b[32m126.0/126.0 kB\u001b[0m \u001b[31m10.0 MB/s\u001b[0m eta \u001b[36m0:00:00\u001b[0m\n",
            "\u001b[2K   \u001b[90m━━━━━━━━━━━━━━━━━━━━━━━━━━━━━━━━━━━━━━━━\u001b[0m \u001b[32m220.7/220.7 kB\u001b[0m \u001b[31m16.0 MB/s\u001b[0m eta \u001b[36m0:00:00\u001b[0m\n",
            "\u001b[2K   \u001b[90m━━━━━━━━━━━━━━━━━━━━━━━━━━━━━━━━━━━━━━━━\u001b[0m \u001b[32m97.3/97.3 kB\u001b[0m \u001b[31m6.6 MB/s\u001b[0m eta \u001b[36m0:00:00\u001b[0m\n",
            "\u001b[2K   \u001b[90m━━━━━━━━━━━━━━━━━━━━━━━━━━━━━━━━━━━━━━━━\u001b[0m \u001b[32m6.2/6.2 MB\u001b[0m \u001b[31m83.1 MB/s\u001b[0m eta \u001b[36m0:00:00\u001b[0m\n",
            "\u001b[2K   \u001b[90m━━━━━━━━━━━━━━━━━━━━━━━━━━━━━━━━━━━━━━━━\u001b[0m \u001b[32m98.7/98.7 kB\u001b[0m \u001b[31m7.3 MB/s\u001b[0m eta \u001b[36m0:00:00\u001b[0m\n",
            "\u001b[2K   \u001b[90m━━━━━━━━━━━━━━━━━━━━━━━━━━━━━━━━━━━━━━━━\u001b[0m \u001b[32m1.7/1.7 MB\u001b[0m \u001b[31m63.0 MB/s\u001b[0m eta \u001b[36m0:00:00\u001b[0m\n",
            "\u001b[2K   \u001b[90m━━━━━━━━━━━━━━━━━━━━━━━━━━━━━━━━━━━━━━━━\u001b[0m \u001b[32m117.8/117.8 kB\u001b[0m \u001b[31m8.1 MB/s\u001b[0m eta \u001b[36m0:00:00\u001b[0m\n",
            "\u001b[2K   \u001b[90m━━━━━━━━━━━━━━━━━━━━━━━━━━━━━━━━━━━━━━━━\u001b[0m \u001b[32m526.7/526.7 kB\u001b[0m \u001b[31m27.2 MB/s\u001b[0m eta \u001b[36m0:00:00\u001b[0m\n",
            "\u001b[?25h  Building wheel for lark (setup.py) ... \u001b[?25l\u001b[?25hdone\n",
            "  Building wheel for rpcq (setup.py) ... \u001b[?25l\u001b[?25hdone\n",
            "\u001b[31mERROR: pip's dependency resolver does not currently take into account all the packages that are installed. This behaviour is the source of the following dependency conflicts.\n",
            "torch 2.3.1+cu121 requires nvidia-cublas-cu12==12.1.3.1; platform_system == \"Linux\" and platform_machine == \"x86_64\", which is not installed.\n",
            "torch 2.3.1+cu121 requires nvidia-cuda-cupti-cu12==12.1.105; platform_system == \"Linux\" and platform_machine == \"x86_64\", which is not installed.\n",
            "torch 2.3.1+cu121 requires nvidia-cuda-nvrtc-cu12==12.1.105; platform_system == \"Linux\" and platform_machine == \"x86_64\", which is not installed.\n",
            "torch 2.3.1+cu121 requires nvidia-cuda-runtime-cu12==12.1.105; platform_system == \"Linux\" and platform_machine == \"x86_64\", which is not installed.\n",
            "torch 2.3.1+cu121 requires nvidia-cudnn-cu12==8.9.2.26; platform_system == \"Linux\" and platform_machine == \"x86_64\", which is not installed.\n",
            "torch 2.3.1+cu121 requires nvidia-cufft-cu12==11.0.2.54; platform_system == \"Linux\" and platform_machine == \"x86_64\", which is not installed.\n",
            "torch 2.3.1+cu121 requires nvidia-curand-cu12==10.3.2.106; platform_system == \"Linux\" and platform_machine == \"x86_64\", which is not installed.\n",
            "torch 2.3.1+cu121 requires nvidia-cusolver-cu12==11.4.5.107; platform_system == \"Linux\" and platform_machine == \"x86_64\", which is not installed.\n",
            "torch 2.3.1+cu121 requires nvidia-cusparse-cu12==12.1.0.106; platform_system == \"Linux\" and platform_machine == \"x86_64\", which is not installed.\n",
            "torch 2.3.1+cu121 requires nvidia-nccl-cu12==2.20.5; platform_system == \"Linux\" and platform_machine == \"x86_64\", which is not installed.\n",
            "torch 2.3.1+cu121 requires nvidia-nvtx-cu12==12.1.105; platform_system == \"Linux\" and platform_machine == \"x86_64\", which is not installed.\n",
            "albumentations 1.4.13 requires pydantic>=2.7.0, but you have pydantic 1.8.2 which is incompatible.\n",
            "classiq 0.44.0 requires httpx<1,>=0.23.0, but you have httpx 0.15.5 which is incompatible.\n",
            "classiq 0.44.0 requires pydantic<2.0.0,>=1.9.1, but you have pydantic 1.8.2 which is incompatible.\n",
            "classiq 0.44.0 requires sympy<2.0.0,>=1.13.0, but you have sympy 1.9 which is incompatible.\n",
            "firebase-admin 6.5.0 requires pyjwt[crypto]>=2.5.0, but you have pyjwt 1.7.1 which is incompatible.\n",
            "google-cloud-bigtable 2.25.0 requires google-api-core[grpc]<3.0.0dev,>=2.16.0, but you have google-api-core 1.34.1 which is incompatible.\n",
            "jsonschema 4.23.0 requires attrs>=22.2.0, but you have attrs 20.3.0 which is incompatible.\n",
            "kaggle 1.6.17 requires certifi>=2023.7.22, but you have certifi 2021.5.30 which is incompatible.\n",
            "pandas-gbq 0.19.2 requires google-api-core<3.0.0dev,>=2.10.2, but you have google-api-core 1.34.1 which is incompatible.\n",
            "referencing 0.35.1 requires attrs>=22.2.0, but you have attrs 20.3.0 which is incompatible.\u001b[0m\u001b[31m\n",
            "\u001b[0minstalled cirq.\n"
          ]
        }
      ]
    },
    {
      "cell_type": "markdown",
      "source": [
        "#### Authors code functions"
      ],
      "metadata": {
        "id": "HCmZpkaTwmyV"
      }
    },
    {
      "cell_type": "markdown",
      "source": [
        "**NOTE 1:** in order to run the authors functions, the two authors files ancillas.py and tof_sim.py are also neeeded. These files are in the same folder of this notebook. (If your run this notebook on Colab, you need to upload these files to Colab by clicking on the icon \"upload to session storage\" in the \"Files\" tab on the left).\n",
        "\n",
        "NOTE 2: We have renamed some of the original paper functions, to avoid to overwrite our previous defined functions that have the same name of the orginal functions."
      ],
      "metadata": {
        "id": "aCrbPMtjc9UK"
      }
    },
    {
      "cell_type": "code",
      "source": [
        "def x2_mod_N_phase_paper(N, x, y, ancillas, circuit_type):\n",
        "    '''\n",
        "    Generate the full circuit\n",
        "    '''\n",
        "    print(f\"x len: {len(x)}\")\n",
        "    print(f\"y len: {len(y)}\")\n",
        "    for q in itertools.chain(x, y):\n",
        "        yield cirq.H(q)\n",
        "\n",
        "    if circuit_type == 'fast':\n",
        "        yield x2modN_fast_paper(x, y, ancillas, N)\n",
        "        yield iqft(y)\n",
        "\n",
        "    elif circuit_type == 'narrow':\n",
        "        for k, yk in enumerate(y):\n",
        "            yield x2modN_narrow_single(x, [yk], ancillas, N, len(y)-k-1)\n",
        "            yield cirq.H(yk)\n",
        "            for m, ym in list(enumerate(y))[k+1:]:\n",
        "                phase = -(1/2**(m-k))\n",
        "                yield CZpow(phase, ym, yk)\n",
        "\n",
        "    else:\n",
        "        raise ValueError('unknown circuit type')\n",
        "\n",
        "def x2modN_narrow_single(x, y, ancillas, N, bit_idx):\n",
        "    for i, xi in enumerate(x):\n",
        "        for j, xj in list(enumerate(x))[i:]:\n",
        "            if i == j:\n",
        "                controls = [xi]\n",
        "                fctr = 1\n",
        "            else:\n",
        "                controls = [xi, xj]\n",
        "                fctr = 2\n",
        "\n",
        "            phase = fctr*2*2**(i+j+bit_idx)/N\n",
        "            yield phase_add(phase, y, controls)\n",
        "\n",
        "def x2modN_fast_paper(x, y, ancillas, N):\n",
        "    n = len(x)\n",
        "    counter = ancillas.new_register(n.bit_length())\n",
        "    print(f\"counter len: {len(counter)}\")\n",
        "    for q in counter:\n",
        "        yield cirq.H(q)\n",
        "\n",
        "    for l in range(2*n-1):\n",
        "        qubit_pairs = [(i, l-i) for i in range(max(0, l-n+1), l//2 + 1)]\n",
        "\n",
        "        yield count_paper(x, counter, qubit_pairs, sign=+1)\n",
        "        yield iqft(counter)\n",
        "\n",
        "        for k, ck in enumerate(counter):\n",
        "            phase = 2*2**(k+l) / N\n",
        "            yield phase_add(phase, y, [ck])\n",
        "\n",
        "        # uncompute\n",
        "        yield qft(counter)\n",
        "        yield count_paper(x, counter, qubit_pairs, sign=-1)\n",
        "\n",
        "    for q in counter:\n",
        "        yield cirq.H(q)\n",
        "\n",
        "    ancillas.discard(counter)\n",
        "\n",
        "def count_paper(x, counter, pairs, sign):\n",
        "    for i,j in pairs:\n",
        "        if i == j:\n",
        "            controls = [x[i]]\n",
        "            fctr = 1\n",
        "        else:\n",
        "            controls = [x[i], x[j]]\n",
        "            fctr = 2\n",
        "\n",
        "        phase = sign*fctr*(2**(1-len(counter)))\n",
        "        yield phase_add(phase, counter, controls)\n",
        "\n",
        "def phase_add(in_phase, target, controls):\n",
        "    for k, yk in enumerate(target):\n",
        "        phase = 2**(len(target) - k - 1) * in_phase % 2\n",
        "        yield CZpow(phase, yk, *controls)\n",
        "\n",
        "def iqft(reg):\n",
        "    for k, yk in enumerate(reg):\n",
        "        yield cirq.H(yk)\n",
        "        for m, ym in list(enumerate(reg))[k+1:]:\n",
        "            phase = -(1/2**(m-k))\n",
        "            yield CZpow(phase, ym, yk)\n",
        "\n",
        "def qft(reg):\n",
        "    for k, yk in list(enumerate(reg))[::-1]:\n",
        "        for m, ym in list(enumerate(reg))[k+1:]:\n",
        "            phase = 1/2**(m-k)\n",
        "            yield CZpow(phase, ym, yk)\n",
        "        yield cirq.H(yk)\n",
        "\n",
        "def CZpow(phase, *qubits):\n",
        "    nqubits = len(qubits)\n",
        "\n",
        "    # we put most common case first\n",
        "    if nqubits == 3:\n",
        "        base_gate = cirq.CCZPowGate(exponent=phase)\n",
        "    elif nqubits == 2:\n",
        "        base_gate = cirq.CZPowGate(exponent=phase)\n",
        "    elif nqubits == 1:\n",
        "        base_gate = cirq.ZPowGate(exponent=phase)\n",
        "    else:\n",
        "        raise ValueError('too many control qubits')\n",
        "\n",
        "    return base_gate(*qubits)"
      ],
      "metadata": {
        "id": "dHJuamF9wp45"
      },
      "execution_count": 15,
      "outputs": []
    },
    {
      "cell_type": "markdown",
      "source": [
        "#### Defintion the test function that performs all test\n"
      ],
      "metadata": {
        "id": "IIoTGW3Pw-pO"
      }
    },
    {
      "cell_type": "code",
      "source": [
        "############## Developed and tested by ############\n",
        "# Filippo Tramonto, Ban Tran\n",
        "###################################################\n",
        "from ancilla import AncillaManager\n",
        "import numpy as np\n",
        "\n",
        "def test_phase_circuit_paper():\n",
        "\n",
        "    print(\"N=\",N)\n",
        "    # domain_max is the max value of the domain of x^2 mod N, i.e. the max value for x\n",
        "    # the domain of x^2 mod N, is [0,domain_max]\n",
        "    # the formula below means: if N is even, domain_max= N/2 -1 ; if N is odd domain_max= floor(N/2)\n",
        "    domain_max = (N+1)//2 - 1\n",
        "    n_x = domain_max.bit_length()\n",
        "    n_y = N.bit_length() # in the orginal code: N.bit_length()+args.extra_bits\n",
        "    print(\"n_x:\",n_x)\n",
        "    print(\"n_y:\",n_y)\n",
        "    print()\n",
        "\n",
        "    # instantiating the quantum registers\n",
        "    x = cirq.NamedQubit.range(n_x, prefix='x')\n",
        "    y = cirq.NamedQubit.range(n_y, prefix='y')\n",
        "\n",
        "    # instantiating the circuit\n",
        "    circuit = cirq.Circuit()\n",
        "\n",
        "    circuit_type='fast'\n",
        "    ancillas = AncillaManager()\n",
        "    circuit.append(x2_mod_N_phase_paper(N,x,y,ancillas,circuit_type))\n",
        "\n",
        "    # instantiating the simluator\n",
        "    simulator = cirq.Simulator()\n",
        "\n",
        "    anc_reg = ancillas.all()\n",
        "    #collecting the results\n",
        "    #result = simulator.simulate(circuit,qubit_order=[*x[::-1],*y[::-1]])\n",
        "    result = simulator.simulate(circuit,qubit_order=[*y[::-1],*anc_reg[::-1],*x[::-1]])\n",
        "\n",
        "    for ampl in result.final_state_vector:\n",
        "        print(np.around(np.real_if_close(ampl,2), 3))\n",
        "\n",
        "    #print(cirq.dirac_notation(result.final_state_vector))"
      ],
      "metadata": {
        "id": "n4XoeremxLWR"
      },
      "execution_count": 17,
      "outputs": []
    },
    {
      "cell_type": "markdown",
      "source": [
        "#### Actual run of the test with different values of N"
      ],
      "metadata": {
        "id": "h4XBEitpw-t0"
      }
    },
    {
      "cell_type": "code",
      "source": [
        "# input classical parameters\n",
        "N = 5\n",
        "\n",
        "#test execution\n",
        "test_phase_circuit_paper()"
      ],
      "metadata": {
        "id": "cdkFYpE3xQkl",
        "colab": {
          "base_uri": "https://localhost:8080/"
        },
        "outputId": "a5c607d0-b07e-40f8-d7a8-38fe8471def5",
        "collapsed": true
      },
      "execution_count": 19,
      "outputs": [
        {
          "output_type": "stream",
          "name": "stdout",
          "text": [
            "N= 5\n",
            "n_x: 2\n",
            "n_y: 3\n",
            "\n",
            "x len: 2\n",
            "y len: 3\n",
            "counter len: 2\n",
            "0.5\n",
            "(0.031+0.096j)\n",
            "(0.031-0.096j)\n",
            "(0.031-0.096j)\n",
            "0.0\n",
            "0.0\n",
            "0.0\n",
            "0.0\n",
            "-0.0\n",
            "-0.0\n",
            "-0.0\n",
            "-0.0\n",
            "-0.0\n",
            "-0.0\n",
            "-0.0\n",
            "-0.0\n",
            "0.0\n",
            "(-0.02+0.254j)\n",
            "(0.045-0.053j)\n",
            "(0.045-0.053j)\n",
            "0.0\n",
            "0.0\n",
            "0.0\n",
            "0.0\n",
            "-0.0\n",
            "-0.0\n",
            "-0.0\n",
            "-0.0\n",
            "-0.0\n",
            "-0.0\n",
            "-0.0\n",
            "-0.0\n",
            "0.0\n",
            "(0.173-0.339j)\n",
            "(0.054-0.027j)\n",
            "(0.054-0.027j)\n",
            "0.0\n",
            "0.0\n",
            "0.0\n",
            "0.0\n",
            "-0.0\n",
            "-0.0\n",
            "-0.0\n",
            "-0.0\n",
            "-0.0\n",
            "-0.0\n",
            "-0.0\n",
            "-0.0\n",
            "0.0\n",
            "(0.087-0.074j)\n",
            "(0.061-0.005j)\n",
            "(0.061-0.005j)\n",
            "0.0\n",
            "0.0\n",
            "0.0\n",
            "0.0\n",
            "-0.0\n",
            "-0.0\n",
            "-0.0\n",
            "-0.0\n",
            "-0.0\n",
            "-0.0\n",
            "-0.0\n",
            "-0.0\n",
            "0.0\n",
            "(0.07-0.023j)\n",
            "(0.07+0.023j)\n",
            "(0.07+0.023j)\n",
            "0.0\n",
            "0.0\n",
            "0.0\n",
            "0.0\n",
            "-0.0\n",
            "-0.0\n",
            "-0.0\n",
            "-0.0\n",
            "-0.0\n",
            "-0.0\n",
            "-0.0\n",
            "-0.0\n",
            "0.0\n",
            "(0.061+0.005j)\n",
            "(0.087+0.074j)\n",
            "(0.087+0.074j)\n",
            "0.0\n",
            "0.0\n",
            "0.0\n",
            "0.0\n",
            "-0.0\n",
            "-0.0\n",
            "-0.0\n",
            "-0.0\n",
            "-0.0\n",
            "-0.0\n",
            "-0.0\n",
            "-0.0\n",
            "0.0\n",
            "(0.054+0.027j)\n",
            "(0.173+0.339j)\n",
            "(0.173+0.339j)\n",
            "0.0\n",
            "0.0\n",
            "0.0\n",
            "0.0\n",
            "-0.0\n",
            "-0.0\n",
            "-0.0\n",
            "-0.0\n",
            "-0.0\n",
            "-0.0\n",
            "-0.0\n",
            "-0.0\n",
            "0.0\n",
            "(0.045+0.053j)\n",
            "(-0.02-0.254j)\n",
            "(-0.02-0.254j)\n",
            "0.0\n",
            "0.0\n",
            "0.0\n",
            "0.0\n",
            "-0.0\n",
            "-0.0\n",
            "-0.0\n",
            "-0.0\n",
            "-0.0\n",
            "-0.0\n",
            "-0.0\n",
            "-0.0\n"
          ]
        }
      ]
    },
    {
      "cell_type": "markdown",
      "metadata": {
        "id": "61d54c80-f9c1-4d00-9c6e-8fa044c155ad"
      },
      "source": [
        "## Test of whole phase circuit with statevector simulator and getting the y values and success probability"
      ]
    },
    {
      "cell_type": "markdown",
      "source": [
        "The Python file in Circ SDK of the paper code, moentioned in the previous section, that checks the correctness of the execution of the phase circuits and the accuracy of the computed values of $y = x^2 \\!\\!\\! \\mod \\!\\! N$ , produces as outcome a cuccess probability to obtain enough accurate values of y, i.e. if they are rounded to the integer they are correct y. In other words, the code computes the cumulative probabiities of the y values that after rounding to integer are equal to the classical computed $x^2 \\!\\!\\! \\mod \\!\\! N$ with the x value taken from the same state of the statevector.\n",
        "\n",
        "In our code below in Classiq Python SDK the same checking is reproduced. Of course, the parsing of the results of the Statevecotr simulator is different. Here with the SDK was a little more simple.\n",
        "\n",
        "Also here, the success probabilities obtained are identical to those obtained with the paper code. The paper Python file to run is check_phase_circuits.py. From command line, the execution command to run it is: `python check_phase_circuits.py 5 -t fast --extra-bits 0` , where 5 is N=5 , and 0 is corresponds to `n_extrabits = 0` for our code.\n",
        "\n",
        "\n",
        "\n"
      ],
      "metadata": {
        "id": "w8tJ_GcDXzNJ"
      }
    },
    {
      "cell_type": "markdown",
      "metadata": {
        "id": "fe7854d7-b91c-4a8b-82be-7a03f7f39df4"
      },
      "source": [
        "### Defintion of main function for test and of the test function that performs all test for success probability of y with OUR CODE"
      ]
    },
    {
      "cell_type": "code",
      "execution_count": 20,
      "metadata": {
        "id": "591c97d7-ed56-47f8-9320-afc228727648"
      },
      "outputs": [],
      "source": [
        "def test_phase_circuit_succ_prob():\n",
        "    print(\"N=\",N)\n",
        "    print(\"n_x:\",n_x)\n",
        "    print(\"n_y:\",n_y)\n",
        "    print(\"n_counter:\",n_counter)\n",
        "    print()\n",
        "\n",
        "    # Defintion of the main quantum function\n",
        "    @qfunc\n",
        "    def main(x: Output[QNum], y: Output[QNum]):\n",
        "\n",
        "        allocate(n_x,x)\n",
        "        allocate(n_y, y)\n",
        "\n",
        "        x2_mod_N_phase(x, y)\n",
        "\n",
        "    ## creation of quantum model (it executes also the classical operations)\n",
        "    qmod = create_model(main)\n",
        "    ## setting execution preferences to run on the statevector simulator\n",
        "    qmod = set_execution_preferences(\n",
        "        qmod,\n",
        "        execution_preferences=execution_preferences\n",
        "    )\n",
        "    print(\"synthesis...\")\n",
        "    # to run on Colab (the exception is excecuted only the first time you run in the current Colab session)\n",
        "    try:\n",
        "        qprog = synthesize(qmod)\n",
        "    #except ClassiqAPIError:     # this does't work, it does not recognize the name \"ClassiqAPIError\"\n",
        "    except Exception:            # this captures every error...\n",
        "        authenticate(overwrite=True)\n",
        "        qprog = synthesize(qmod)\n",
        "\n",
        "    print(\"executing...\")\n",
        "    job = execute(qprog)\n",
        "    result = job.result()[0].value\n",
        "    print(\"finished!\")\n",
        "    return result"
      ]
    },
    {
      "cell_type": "markdown",
      "metadata": {
        "id": "ae90aa01-1e74-42e0-9f24-5549f1c007e9"
      },
      "source": [
        "### Test with different values of N"
      ]
    },
    {
      "cell_type": "code",
      "execution_count": 21,
      "metadata": {
        "id": "edb7fec3-dd0f-4ae3-b81f-4658a1f2d51f",
        "outputId": "60665092-7c08-4025-c642-f21fe02d9b2f",
        "colab": {
          "base_uri": "https://localhost:8080/"
        },
        "collapsed": true
      },
      "outputs": [
        {
          "output_type": "stream",
          "name": "stdout",
          "text": [
            "N= 21\n",
            "n_x: 4\n",
            "n_y: 5\n",
            "n_counter: 3\n",
            "\n",
            "synthesis...\n",
            "executing...\n",
            "finished!\n"
          ]
        }
      ],
      "source": [
        "# input classical parameters\n",
        "N = 21\n",
        "n_extrabits = 0\n",
        "\n",
        "# domain_max is the max value of the domain of x^2 mod N, i.e. the max value for x\n",
        "# the domain of x^2 mod N, is [0,domain_max]\n",
        "# the formula below means: if N is even, domain_max= N/2 -1 ; if N is odd domain_max= floor(N/2)\n",
        "domain_max = (N+1)//2 - 1\n",
        "n_x = domain_max.bit_length() + n_extrabits\n",
        "n_y = N.bit_length() # in the orginal code: N.bit_length()+args.extra_bits\n",
        "n_counter = n_x.bit_length()\n",
        "\n",
        "#test execution\n",
        "result=test_phase_circuit_succ_prob()"
      ]
    },
    {
      "cell_type": "code",
      "execution_count": 22,
      "metadata": {
        "id": "496fb37b-96dc-4e86-8341-d2bc86913b02",
        "colab": {
          "base_uri": "https://localhost:8080/"
        },
        "outputId": "3c96bb3c-9b59-45a1-b07a-384b8a3d09d0"
      },
      "outputs": [
        {
          "output_type": "stream",
          "name": "stdout",
          "text": [
            "success y probablility: 0.874\n"
          ]
        }
      ],
      "source": [
        "parsed_state_vector = result.parsed_state_vector\n",
        "def myFunc(e):\n",
        "    return e.bitstring\n",
        "parsed_state_vector.sort(key=myFunc)\n",
        "\n",
        "n_good_y = 0\n",
        "good_count = 0\n",
        "x_y_prob= {}\n",
        "for state in parsed_state_vector:\n",
        "    #print(state.state,state.bitstring,round_complex(complex(state.amplitude),3))\n",
        "\n",
        "    x = int(state.state['x'])\n",
        "    w_int = int(state.state['y']) # it's the integer represenation of the bitstring of the binary fraction w\n",
        "    w = w_int / 2**n_y  # the binary fraction w\n",
        "    y = w * N\n",
        "\n",
        "    ampl=state.amplitude\n",
        "    prob = (ampl*np.conj(ampl)).real\n",
        "\n",
        "    key = (y, x)\n",
        "    if key not in x_y_prob:\n",
        "        x_y_prob[key] = 0\n",
        "    x_y_prob[key] += prob\n",
        "\n",
        "good_prob = 0\n",
        "for (y, x), prob in x_y_prob.items():\n",
        "\n",
        "    y_from_x = x**2 % N\n",
        "\n",
        "    if abs(round(y) - y_from_x) < 1:\n",
        "        n_good_y += 1\n",
        "        good_prob += prob\n",
        "\n",
        "print(\"success y probablility:\",round(good_prob,3) )"
      ]
    },
    {
      "cell_type": "code",
      "source": [],
      "metadata": {
        "id": "Dza6SAFBx_Uh"
      },
      "execution_count": null,
      "outputs": []
    }
  ]
}